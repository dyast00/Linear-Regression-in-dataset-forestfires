{
 "cells": [
  {
   "cell_type": "code",
   "execution_count": 1,
   "id": "17cb6800",
   "metadata": {
    "_cell_guid": "b1076dfc-b9ad-4769-8c92-a6c4dae69d19",
    "_uuid": "8f2839f25d086af736a60e9eeb907d3b93b6e0e5",
    "execution": {
     "iopub.execute_input": "2023-01-07T08:24:17.752921Z",
     "iopub.status.busy": "2023-01-07T08:24:17.751713Z",
     "iopub.status.idle": "2023-01-07T08:24:17.768860Z",
     "shell.execute_reply": "2023-01-07T08:24:17.767901Z"
    },
    "papermill": {
     "duration": 0.028406,
     "end_time": "2023-01-07T08:24:17.772323",
     "exception": false,
     "start_time": "2023-01-07T08:24:17.743917",
     "status": "completed"
    },
    "tags": []
   },
   "outputs": [
    {
     "name": "stdout",
     "output_type": "stream",
     "text": [
      "/kaggle/input/kebakaran-hutan/forestfires.csv\n"
     ]
    }
   ],
   "source": [
    "# This Python 3 environment comes with many helpful analytics libraries installed\n",
    "# It is defined by the kaggle/python Docker image: https://github.com/kaggle/docker-python\n",
    "# For example, here's several helpful packages to load\n",
    "\n",
    "import numpy as np # linear algebra\n",
    "import pandas as pd # data processing, CSV file I/O (e.g. pd.read_csv)\n",
    "\n",
    "# Input data files are available in the read-only \"../input/\" directory\n",
    "# For example, running this (by clicking run or pressing Shift+Enter) will list all files under the input directory\n",
    "\n",
    "import os\n",
    "for dirname, _, filenames in os.walk('/kaggle/input'):\n",
    "    for filename in filenames:\n",
    "        print(os.path.join(dirname, filename))\n",
    "\n",
    "# You can write up to 20GB to the current directory (/kaggle/working/) that gets preserved as output when you create a version using \"Save & Run All\" \n",
    "# You can also write temporary files to /kaggle/temp/, but they won't be saved outside of the current session"
   ]
  },
  {
   "cell_type": "markdown",
   "id": "9153ec76",
   "metadata": {
    "papermill": {
     "duration": 0.004311,
     "end_time": "2023-01-07T08:24:17.782491",
     "exception": false,
     "start_time": "2023-01-07T08:24:17.778180",
     "status": "completed"
    },
    "tags": []
   },
   "source": [
    "# Read Data"
   ]
  },
  {
   "cell_type": "code",
   "execution_count": 2,
   "id": "74447cb1",
   "metadata": {
    "execution": {
     "iopub.execute_input": "2023-01-07T08:24:17.793297Z",
     "iopub.status.busy": "2023-01-07T08:24:17.792831Z",
     "iopub.status.idle": "2023-01-07T08:24:17.848927Z",
     "shell.execute_reply": "2023-01-07T08:24:17.848049Z"
    },
    "papermill": {
     "duration": 0.064155,
     "end_time": "2023-01-07T08:24:17.851157",
     "exception": false,
     "start_time": "2023-01-07T08:24:17.787002",
     "status": "completed"
    },
    "tags": []
   },
   "outputs": [
    {
     "data": {
      "text/html": [
       "<div>\n",
       "<style scoped>\n",
       "    .dataframe tbody tr th:only-of-type {\n",
       "        vertical-align: middle;\n",
       "    }\n",
       "\n",
       "    .dataframe tbody tr th {\n",
       "        vertical-align: top;\n",
       "    }\n",
       "\n",
       "    .dataframe thead th {\n",
       "        text-align: right;\n",
       "    }\n",
       "</style>\n",
       "<table border=\"1\" class=\"dataframe\">\n",
       "  <thead>\n",
       "    <tr style=\"text-align: right;\">\n",
       "      <th></th>\n",
       "      <th>X</th>\n",
       "      <th>Y</th>\n",
       "      <th>month</th>\n",
       "      <th>day</th>\n",
       "      <th>FFMC</th>\n",
       "      <th>DMC</th>\n",
       "      <th>DC</th>\n",
       "      <th>ISI</th>\n",
       "      <th>temp</th>\n",
       "      <th>RH</th>\n",
       "      <th>wind</th>\n",
       "      <th>rain</th>\n",
       "      <th>area</th>\n",
       "    </tr>\n",
       "  </thead>\n",
       "  <tbody>\n",
       "    <tr>\n",
       "      <th>0</th>\n",
       "      <td>7</td>\n",
       "      <td>5</td>\n",
       "      <td>mar</td>\n",
       "      <td>fri</td>\n",
       "      <td>86.2</td>\n",
       "      <td>26.2</td>\n",
       "      <td>94.3</td>\n",
       "      <td>5.1</td>\n",
       "      <td>8.2</td>\n",
       "      <td>51</td>\n",
       "      <td>6.7</td>\n",
       "      <td>0.0</td>\n",
       "      <td>0.00</td>\n",
       "    </tr>\n",
       "    <tr>\n",
       "      <th>1</th>\n",
       "      <td>7</td>\n",
       "      <td>4</td>\n",
       "      <td>oct</td>\n",
       "      <td>tue</td>\n",
       "      <td>90.6</td>\n",
       "      <td>35.4</td>\n",
       "      <td>669.1</td>\n",
       "      <td>6.7</td>\n",
       "      <td>18.0</td>\n",
       "      <td>33</td>\n",
       "      <td>0.9</td>\n",
       "      <td>0.0</td>\n",
       "      <td>0.00</td>\n",
       "    </tr>\n",
       "    <tr>\n",
       "      <th>2</th>\n",
       "      <td>7</td>\n",
       "      <td>4</td>\n",
       "      <td>oct</td>\n",
       "      <td>sat</td>\n",
       "      <td>90.6</td>\n",
       "      <td>43.7</td>\n",
       "      <td>686.9</td>\n",
       "      <td>6.7</td>\n",
       "      <td>14.6</td>\n",
       "      <td>33</td>\n",
       "      <td>1.3</td>\n",
       "      <td>0.0</td>\n",
       "      <td>0.00</td>\n",
       "    </tr>\n",
       "    <tr>\n",
       "      <th>3</th>\n",
       "      <td>8</td>\n",
       "      <td>6</td>\n",
       "      <td>mar</td>\n",
       "      <td>fri</td>\n",
       "      <td>91.7</td>\n",
       "      <td>33.3</td>\n",
       "      <td>77.5</td>\n",
       "      <td>9.0</td>\n",
       "      <td>8.3</td>\n",
       "      <td>97</td>\n",
       "      <td>4.0</td>\n",
       "      <td>0.2</td>\n",
       "      <td>0.00</td>\n",
       "    </tr>\n",
       "    <tr>\n",
       "      <th>4</th>\n",
       "      <td>8</td>\n",
       "      <td>6</td>\n",
       "      <td>mar</td>\n",
       "      <td>sun</td>\n",
       "      <td>89.3</td>\n",
       "      <td>51.3</td>\n",
       "      <td>102.2</td>\n",
       "      <td>9.6</td>\n",
       "      <td>11.4</td>\n",
       "      <td>99</td>\n",
       "      <td>1.8</td>\n",
       "      <td>0.0</td>\n",
       "      <td>0.00</td>\n",
       "    </tr>\n",
       "    <tr>\n",
       "      <th>...</th>\n",
       "      <td>...</td>\n",
       "      <td>...</td>\n",
       "      <td>...</td>\n",
       "      <td>...</td>\n",
       "      <td>...</td>\n",
       "      <td>...</td>\n",
       "      <td>...</td>\n",
       "      <td>...</td>\n",
       "      <td>...</td>\n",
       "      <td>...</td>\n",
       "      <td>...</td>\n",
       "      <td>...</td>\n",
       "      <td>...</td>\n",
       "    </tr>\n",
       "    <tr>\n",
       "      <th>512</th>\n",
       "      <td>4</td>\n",
       "      <td>3</td>\n",
       "      <td>aug</td>\n",
       "      <td>sun</td>\n",
       "      <td>81.6</td>\n",
       "      <td>56.7</td>\n",
       "      <td>665.6</td>\n",
       "      <td>1.9</td>\n",
       "      <td>27.8</td>\n",
       "      <td>32</td>\n",
       "      <td>2.7</td>\n",
       "      <td>0.0</td>\n",
       "      <td>6.44</td>\n",
       "    </tr>\n",
       "    <tr>\n",
       "      <th>513</th>\n",
       "      <td>2</td>\n",
       "      <td>4</td>\n",
       "      <td>aug</td>\n",
       "      <td>sun</td>\n",
       "      <td>81.6</td>\n",
       "      <td>56.7</td>\n",
       "      <td>665.6</td>\n",
       "      <td>1.9</td>\n",
       "      <td>21.9</td>\n",
       "      <td>71</td>\n",
       "      <td>5.8</td>\n",
       "      <td>0.0</td>\n",
       "      <td>54.29</td>\n",
       "    </tr>\n",
       "    <tr>\n",
       "      <th>514</th>\n",
       "      <td>7</td>\n",
       "      <td>4</td>\n",
       "      <td>aug</td>\n",
       "      <td>sun</td>\n",
       "      <td>81.6</td>\n",
       "      <td>56.7</td>\n",
       "      <td>665.6</td>\n",
       "      <td>1.9</td>\n",
       "      <td>21.2</td>\n",
       "      <td>70</td>\n",
       "      <td>6.7</td>\n",
       "      <td>0.0</td>\n",
       "      <td>11.16</td>\n",
       "    </tr>\n",
       "    <tr>\n",
       "      <th>515</th>\n",
       "      <td>1</td>\n",
       "      <td>4</td>\n",
       "      <td>aug</td>\n",
       "      <td>sat</td>\n",
       "      <td>94.4</td>\n",
       "      <td>146.0</td>\n",
       "      <td>614.7</td>\n",
       "      <td>11.3</td>\n",
       "      <td>25.6</td>\n",
       "      <td>42</td>\n",
       "      <td>4.0</td>\n",
       "      <td>0.0</td>\n",
       "      <td>0.00</td>\n",
       "    </tr>\n",
       "    <tr>\n",
       "      <th>516</th>\n",
       "      <td>6</td>\n",
       "      <td>3</td>\n",
       "      <td>nov</td>\n",
       "      <td>tue</td>\n",
       "      <td>79.5</td>\n",
       "      <td>3.0</td>\n",
       "      <td>106.7</td>\n",
       "      <td>1.1</td>\n",
       "      <td>11.8</td>\n",
       "      <td>31</td>\n",
       "      <td>4.5</td>\n",
       "      <td>0.0</td>\n",
       "      <td>0.00</td>\n",
       "    </tr>\n",
       "  </tbody>\n",
       "</table>\n",
       "<p>517 rows × 13 columns</p>\n",
       "</div>"
      ],
      "text/plain": [
       "     X  Y month  day  FFMC    DMC     DC   ISI  temp  RH  wind  rain   area\n",
       "0    7  5   mar  fri  86.2   26.2   94.3   5.1   8.2  51   6.7   0.0   0.00\n",
       "1    7  4   oct  tue  90.6   35.4  669.1   6.7  18.0  33   0.9   0.0   0.00\n",
       "2    7  4   oct  sat  90.6   43.7  686.9   6.7  14.6  33   1.3   0.0   0.00\n",
       "3    8  6   mar  fri  91.7   33.3   77.5   9.0   8.3  97   4.0   0.2   0.00\n",
       "4    8  6   mar  sun  89.3   51.3  102.2   9.6  11.4  99   1.8   0.0   0.00\n",
       "..  .. ..   ...  ...   ...    ...    ...   ...   ...  ..   ...   ...    ...\n",
       "512  4  3   aug  sun  81.6   56.7  665.6   1.9  27.8  32   2.7   0.0   6.44\n",
       "513  2  4   aug  sun  81.6   56.7  665.6   1.9  21.9  71   5.8   0.0  54.29\n",
       "514  7  4   aug  sun  81.6   56.7  665.6   1.9  21.2  70   6.7   0.0  11.16\n",
       "515  1  4   aug  sat  94.4  146.0  614.7  11.3  25.6  42   4.0   0.0   0.00\n",
       "516  6  3   nov  tue  79.5    3.0  106.7   1.1  11.8  31   4.5   0.0   0.00\n",
       "\n",
       "[517 rows x 13 columns]"
      ]
     },
     "execution_count": 2,
     "metadata": {},
     "output_type": "execute_result"
    }
   ],
   "source": [
    "df = pd.read_csv('/kaggle/input/kebakaran-hutan/forestfires.csv')\n",
    "df"
   ]
  },
  {
   "cell_type": "code",
   "execution_count": 3,
   "id": "aa1e3fe9",
   "metadata": {
    "execution": {
     "iopub.execute_input": "2023-01-07T08:24:17.863903Z",
     "iopub.status.busy": "2023-01-07T08:24:17.863110Z",
     "iopub.status.idle": "2023-01-07T08:24:17.888606Z",
     "shell.execute_reply": "2023-01-07T08:24:17.887302Z"
    },
    "papermill": {
     "duration": 0.035806,
     "end_time": "2023-01-07T08:24:17.892184",
     "exception": false,
     "start_time": "2023-01-07T08:24:17.856378",
     "status": "completed"
    },
    "tags": []
   },
   "outputs": [
    {
     "name": "stdout",
     "output_type": "stream",
     "text": [
      "<class 'pandas.core.frame.DataFrame'>\n",
      "RangeIndex: 517 entries, 0 to 516\n",
      "Data columns (total 13 columns):\n",
      " #   Column  Non-Null Count  Dtype  \n",
      "---  ------  --------------  -----  \n",
      " 0   X       517 non-null    int64  \n",
      " 1   Y       517 non-null    int64  \n",
      " 2   month   517 non-null    object \n",
      " 3   day     517 non-null    object \n",
      " 4   FFMC    517 non-null    float64\n",
      " 5   DMC     517 non-null    float64\n",
      " 6   DC      517 non-null    float64\n",
      " 7   ISI     517 non-null    float64\n",
      " 8   temp    517 non-null    float64\n",
      " 9   RH      517 non-null    int64  \n",
      " 10  wind    517 non-null    float64\n",
      " 11  rain    517 non-null    float64\n",
      " 12  area    517 non-null    float64\n",
      "dtypes: float64(8), int64(3), object(2)\n",
      "memory usage: 52.6+ KB\n"
     ]
    }
   ],
   "source": [
    "df.info()"
   ]
  },
  {
   "cell_type": "markdown",
   "id": "c2b9f750",
   "metadata": {
    "papermill": {
     "duration": 0.00494,
     "end_time": "2023-01-07T08:24:17.902955",
     "exception": false,
     "start_time": "2023-01-07T08:24:17.898015",
     "status": "completed"
    },
    "tags": []
   },
   "source": [
    "# Statistic Descriptive"
   ]
  },
  {
   "cell_type": "code",
   "execution_count": 4,
   "id": "dfe9b3c6",
   "metadata": {
    "execution": {
     "iopub.execute_input": "2023-01-07T08:24:17.915410Z",
     "iopub.status.busy": "2023-01-07T08:24:17.914529Z",
     "iopub.status.idle": "2023-01-07T08:24:17.960892Z",
     "shell.execute_reply": "2023-01-07T08:24:17.959631Z"
    },
    "papermill": {
     "duration": 0.055862,
     "end_time": "2023-01-07T08:24:17.963917",
     "exception": false,
     "start_time": "2023-01-07T08:24:17.908055",
     "status": "completed"
    },
    "tags": []
   },
   "outputs": [
    {
     "data": {
      "text/html": [
       "<div>\n",
       "<style scoped>\n",
       "    .dataframe tbody tr th:only-of-type {\n",
       "        vertical-align: middle;\n",
       "    }\n",
       "\n",
       "    .dataframe tbody tr th {\n",
       "        vertical-align: top;\n",
       "    }\n",
       "\n",
       "    .dataframe thead th {\n",
       "        text-align: right;\n",
       "    }\n",
       "</style>\n",
       "<table border=\"1\" class=\"dataframe\">\n",
       "  <thead>\n",
       "    <tr style=\"text-align: right;\">\n",
       "      <th></th>\n",
       "      <th>count</th>\n",
       "      <th>mean</th>\n",
       "      <th>std</th>\n",
       "      <th>min</th>\n",
       "      <th>25%</th>\n",
       "      <th>50%</th>\n",
       "      <th>75%</th>\n",
       "      <th>max</th>\n",
       "    </tr>\n",
       "  </thead>\n",
       "  <tbody>\n",
       "    <tr>\n",
       "      <th>X</th>\n",
       "      <td>517.0</td>\n",
       "      <td>4.669246</td>\n",
       "      <td>2.313778</td>\n",
       "      <td>1.0</td>\n",
       "      <td>3.0</td>\n",
       "      <td>4.00</td>\n",
       "      <td>7.00</td>\n",
       "      <td>9.00</td>\n",
       "    </tr>\n",
       "    <tr>\n",
       "      <th>Y</th>\n",
       "      <td>517.0</td>\n",
       "      <td>4.299807</td>\n",
       "      <td>1.229900</td>\n",
       "      <td>2.0</td>\n",
       "      <td>4.0</td>\n",
       "      <td>4.00</td>\n",
       "      <td>5.00</td>\n",
       "      <td>9.00</td>\n",
       "    </tr>\n",
       "    <tr>\n",
       "      <th>FFMC</th>\n",
       "      <td>517.0</td>\n",
       "      <td>90.644681</td>\n",
       "      <td>5.520111</td>\n",
       "      <td>18.7</td>\n",
       "      <td>90.2</td>\n",
       "      <td>91.60</td>\n",
       "      <td>92.90</td>\n",
       "      <td>96.20</td>\n",
       "    </tr>\n",
       "    <tr>\n",
       "      <th>DMC</th>\n",
       "      <td>517.0</td>\n",
       "      <td>110.872340</td>\n",
       "      <td>64.046482</td>\n",
       "      <td>1.1</td>\n",
       "      <td>68.6</td>\n",
       "      <td>108.30</td>\n",
       "      <td>142.40</td>\n",
       "      <td>291.30</td>\n",
       "    </tr>\n",
       "    <tr>\n",
       "      <th>DC</th>\n",
       "      <td>517.0</td>\n",
       "      <td>547.940039</td>\n",
       "      <td>248.066192</td>\n",
       "      <td>7.9</td>\n",
       "      <td>437.7</td>\n",
       "      <td>664.20</td>\n",
       "      <td>713.90</td>\n",
       "      <td>860.60</td>\n",
       "    </tr>\n",
       "    <tr>\n",
       "      <th>ISI</th>\n",
       "      <td>517.0</td>\n",
       "      <td>9.021663</td>\n",
       "      <td>4.559477</td>\n",
       "      <td>0.0</td>\n",
       "      <td>6.5</td>\n",
       "      <td>8.40</td>\n",
       "      <td>10.80</td>\n",
       "      <td>56.10</td>\n",
       "    </tr>\n",
       "    <tr>\n",
       "      <th>temp</th>\n",
       "      <td>517.0</td>\n",
       "      <td>18.889168</td>\n",
       "      <td>5.806625</td>\n",
       "      <td>2.2</td>\n",
       "      <td>15.5</td>\n",
       "      <td>19.30</td>\n",
       "      <td>22.80</td>\n",
       "      <td>33.30</td>\n",
       "    </tr>\n",
       "    <tr>\n",
       "      <th>RH</th>\n",
       "      <td>517.0</td>\n",
       "      <td>44.288201</td>\n",
       "      <td>16.317469</td>\n",
       "      <td>15.0</td>\n",
       "      <td>33.0</td>\n",
       "      <td>42.00</td>\n",
       "      <td>53.00</td>\n",
       "      <td>100.00</td>\n",
       "    </tr>\n",
       "    <tr>\n",
       "      <th>wind</th>\n",
       "      <td>517.0</td>\n",
       "      <td>4.017602</td>\n",
       "      <td>1.791653</td>\n",
       "      <td>0.4</td>\n",
       "      <td>2.7</td>\n",
       "      <td>4.00</td>\n",
       "      <td>4.90</td>\n",
       "      <td>9.40</td>\n",
       "    </tr>\n",
       "    <tr>\n",
       "      <th>rain</th>\n",
       "      <td>517.0</td>\n",
       "      <td>0.021663</td>\n",
       "      <td>0.295959</td>\n",
       "      <td>0.0</td>\n",
       "      <td>0.0</td>\n",
       "      <td>0.00</td>\n",
       "      <td>0.00</td>\n",
       "      <td>6.40</td>\n",
       "    </tr>\n",
       "    <tr>\n",
       "      <th>area</th>\n",
       "      <td>517.0</td>\n",
       "      <td>12.847292</td>\n",
       "      <td>63.655818</td>\n",
       "      <td>0.0</td>\n",
       "      <td>0.0</td>\n",
       "      <td>0.52</td>\n",
       "      <td>6.57</td>\n",
       "      <td>1090.84</td>\n",
       "    </tr>\n",
       "  </tbody>\n",
       "</table>\n",
       "</div>"
      ],
      "text/plain": [
       "      count        mean         std   min    25%     50%     75%      max\n",
       "X     517.0    4.669246    2.313778   1.0    3.0    4.00    7.00     9.00\n",
       "Y     517.0    4.299807    1.229900   2.0    4.0    4.00    5.00     9.00\n",
       "FFMC  517.0   90.644681    5.520111  18.7   90.2   91.60   92.90    96.20\n",
       "DMC   517.0  110.872340   64.046482   1.1   68.6  108.30  142.40   291.30\n",
       "DC    517.0  547.940039  248.066192   7.9  437.7  664.20  713.90   860.60\n",
       "ISI   517.0    9.021663    4.559477   0.0    6.5    8.40   10.80    56.10\n",
       "temp  517.0   18.889168    5.806625   2.2   15.5   19.30   22.80    33.30\n",
       "RH    517.0   44.288201   16.317469  15.0   33.0   42.00   53.00   100.00\n",
       "wind  517.0    4.017602    1.791653   0.4    2.7    4.00    4.90     9.40\n",
       "rain  517.0    0.021663    0.295959   0.0    0.0    0.00    0.00     6.40\n",
       "area  517.0   12.847292   63.655818   0.0    0.0    0.52    6.57  1090.84"
      ]
     },
     "execution_count": 4,
     "metadata": {},
     "output_type": "execute_result"
    }
   ],
   "source": [
    "df.describe().T"
   ]
  },
  {
   "cell_type": "code",
   "execution_count": 5,
   "id": "dd639943",
   "metadata": {
    "execution": {
     "iopub.execute_input": "2023-01-07T08:24:17.977351Z",
     "iopub.status.busy": "2023-01-07T08:24:17.976497Z",
     "iopub.status.idle": "2023-01-07T08:24:20.026607Z",
     "shell.execute_reply": "2023-01-07T08:24:20.025526Z"
    },
    "papermill": {
     "duration": 2.060068,
     "end_time": "2023-01-07T08:24:20.029788",
     "exception": false,
     "start_time": "2023-01-07T08:24:17.969720",
     "status": "completed"
    },
    "tags": []
   },
   "outputs": [
    {
     "data": {
      "image/png": "[encoded data removed]",
      "text/plain": [
       "<Figure size 1296x1296 with 2 Axes>"
      ]
     },
     "metadata": {
      "needs_background": "light"
     },
     "output_type": "display_data"
    }
   ],
   "source": [
    "# Mencari korelasi antar variabel\n",
    "import matplotlib.pyplot as plt\n",
    "import seaborn as sns\n",
    "\n",
    "plt.figure(figsize=(18,18))\n",
    "cor = df.corr('pearson')\n",
    "sns.heatmap(cor, annot=True, cmap=plt.cm.Reds)\n",
    "plt.show()"
   ]
  },
  {
   "cell_type": "code",
   "execution_count": 6,
   "id": "2a692f72",
   "metadata": {
    "execution": {
     "iopub.execute_input": "2023-01-07T08:24:20.046269Z",
     "iopub.status.busy": "2023-01-07T08:24:20.045796Z",
     "iopub.status.idle": "2023-01-07T08:24:20.057493Z",
     "shell.execute_reply": "2023-01-07T08:24:20.056231Z"
    },
    "papermill": {
     "duration": 0.022962,
     "end_time": "2023-01-07T08:24:20.059959",
     "exception": false,
     "start_time": "2023-01-07T08:24:20.036997",
     "status": "completed"
    },
    "tags": []
   },
   "outputs": [
    {
     "data": {
      "text/plain": [
       "X        0\n",
       "Y        0\n",
       "month    0\n",
       "day      0\n",
       "FFMC     0\n",
       "DMC      0\n",
       "DC       0\n",
       "ISI      0\n",
       "temp     0\n",
       "RH       0\n",
       "wind     0\n",
       "rain     0\n",
       "area     0\n",
       "dtype: int64"
      ]
     },
     "execution_count": 6,
     "metadata": {},
     "output_type": "execute_result"
    }
   ],
   "source": [
    "df_copy = df.copy(deep=True)\n",
    "#df_copy[df.columns.values] = df_copy[df.columns.values]\n",
    "df_copy.isnull().sum()"
   ]
  },
  {
   "cell_type": "code",
   "execution_count": 7,
   "id": "a44a1fff",
   "metadata": {
    "execution": {
     "iopub.execute_input": "2023-01-07T08:24:20.077331Z",
     "iopub.status.busy": "2023-01-07T08:24:20.076868Z",
     "iopub.status.idle": "2023-01-07T08:24:21.755309Z",
     "shell.execute_reply": "2023-01-07T08:24:21.753976Z"
    },
    "papermill": {
     "duration": 1.69069,
     "end_time": "2023-01-07T08:24:21.758629",
     "exception": false,
     "start_time": "2023-01-07T08:24:20.067939",
     "status": "completed"
    },
    "tags": []
   },
   "outputs": [
    {
     "data": {
      "text/plain": [
       "array([[<AxesSubplot:title={'center':'X'}>,\n",
       "        <AxesSubplot:title={'center':'Y'}>,\n",
       "        <AxesSubplot:title={'center':'FFMC'}>],\n",
       "       [<AxesSubplot:title={'center':'DMC'}>,\n",
       "        <AxesSubplot:title={'center':'DC'}>,\n",
       "        <AxesSubplot:title={'center':'ISI'}>],\n",
       "       [<AxesSubplot:title={'center':'temp'}>,\n",
       "        <AxesSubplot:title={'center':'RH'}>,\n",
       "        <AxesSubplot:title={'center':'wind'}>],\n",
       "       [<AxesSubplot:title={'center':'rain'}>,\n",
       "        <AxesSubplot:title={'center':'area'}>, <AxesSubplot:>]],\n",
       "      dtype=object)"
      ]
     },
     "execution_count": 7,
     "metadata": {},
     "output_type": "execute_result"
    },
    {
     "data": {
      "image/png": "[encoded data removed]",
      "text/plain": [
       "<Figure size 1080x1080 with 12 Axes>"
      ]
     },
     "metadata": {
      "needs_background": "light"
     },
     "output_type": "display_data"
    }
   ],
   "source": [
    "df_copy.hist(figsize = (15,15))"
   ]
  },
  {
   "cell_type": "code",
   "execution_count": 8,
   "id": "62e3fa5e",
   "metadata": {
    "execution": {
     "iopub.execute_input": "2023-01-07T08:24:21.777779Z",
     "iopub.status.busy": "2023-01-07T08:24:21.776779Z",
     "iopub.status.idle": "2023-01-07T08:24:22.145683Z",
     "shell.execute_reply": "2023-01-07T08:24:22.144485Z"
    },
    "papermill": {
     "duration": 0.381481,
     "end_time": "2023-01-07T08:24:22.148423",
     "exception": false,
     "start_time": "2023-01-07T08:24:21.766942",
     "status": "completed"
    },
    "tags": []
   },
   "outputs": [
    {
     "data": {
      "text/html": [
       "<div>\n",
       "<style scoped>\n",
       "    .dataframe tbody tr th:only-of-type {\n",
       "        vertical-align: middle;\n",
       "    }\n",
       "\n",
       "    .dataframe tbody tr th {\n",
       "        vertical-align: top;\n",
       "    }\n",
       "\n",
       "    .dataframe thead th {\n",
       "        text-align: right;\n",
       "    }\n",
       "</style>\n",
       "<table border=\"1\" class=\"dataframe\">\n",
       "  <thead>\n",
       "    <tr style=\"text-align: right;\">\n",
       "      <th></th>\n",
       "      <th>FFMC</th>\n",
       "      <th>DMC</th>\n",
       "      <th>DC</th>\n",
       "      <th>ISI</th>\n",
       "      <th>temp</th>\n",
       "      <th>RH</th>\n",
       "      <th>wind</th>\n",
       "      <th>rain</th>\n",
       "      <th>area</th>\n",
       "    </tr>\n",
       "  </thead>\n",
       "  <tbody>\n",
       "    <tr>\n",
       "      <th>0</th>\n",
       "      <td>0.870968</td>\n",
       "      <td>0.086492</td>\n",
       "      <td>0.101325</td>\n",
       "      <td>0.090909</td>\n",
       "      <td>0.192926</td>\n",
       "      <td>0.423529</td>\n",
       "      <td>0.700000</td>\n",
       "      <td>0.00000</td>\n",
       "      <td>0.000000</td>\n",
       "    </tr>\n",
       "    <tr>\n",
       "      <th>1</th>\n",
       "      <td>0.927742</td>\n",
       "      <td>0.118194</td>\n",
       "      <td>0.775419</td>\n",
       "      <td>0.119430</td>\n",
       "      <td>0.508039</td>\n",
       "      <td>0.211765</td>\n",
       "      <td>0.055556</td>\n",
       "      <td>0.00000</td>\n",
       "      <td>0.000000</td>\n",
       "    </tr>\n",
       "    <tr>\n",
       "      <th>2</th>\n",
       "      <td>0.927742</td>\n",
       "      <td>0.146795</td>\n",
       "      <td>0.796294</td>\n",
       "      <td>0.119430</td>\n",
       "      <td>0.398714</td>\n",
       "      <td>0.211765</td>\n",
       "      <td>0.100000</td>\n",
       "      <td>0.00000</td>\n",
       "      <td>0.000000</td>\n",
       "    </tr>\n",
       "    <tr>\n",
       "      <th>3</th>\n",
       "      <td>0.941935</td>\n",
       "      <td>0.110958</td>\n",
       "      <td>0.081623</td>\n",
       "      <td>0.160428</td>\n",
       "      <td>0.196141</td>\n",
       "      <td>0.964706</td>\n",
       "      <td>0.400000</td>\n",
       "      <td>0.03125</td>\n",
       "      <td>0.000000</td>\n",
       "    </tr>\n",
       "    <tr>\n",
       "      <th>4</th>\n",
       "      <td>0.910968</td>\n",
       "      <td>0.172984</td>\n",
       "      <td>0.110590</td>\n",
       "      <td>0.171123</td>\n",
       "      <td>0.295820</td>\n",
       "      <td>0.988235</td>\n",
       "      <td>0.155556</td>\n",
       "      <td>0.00000</td>\n",
       "      <td>0.000000</td>\n",
       "    </tr>\n",
       "    <tr>\n",
       "      <th>...</th>\n",
       "      <td>...</td>\n",
       "      <td>...</td>\n",
       "      <td>...</td>\n",
       "      <td>...</td>\n",
       "      <td>...</td>\n",
       "      <td>...</td>\n",
       "      <td>...</td>\n",
       "      <td>...</td>\n",
       "      <td>...</td>\n",
       "    </tr>\n",
       "    <tr>\n",
       "      <th>512</th>\n",
       "      <td>0.811613</td>\n",
       "      <td>0.191592</td>\n",
       "      <td>0.771315</td>\n",
       "      <td>0.033868</td>\n",
       "      <td>0.823151</td>\n",
       "      <td>0.200000</td>\n",
       "      <td>0.255556</td>\n",
       "      <td>0.00000</td>\n",
       "      <td>0.005904</td>\n",
       "    </tr>\n",
       "    <tr>\n",
       "      <th>513</th>\n",
       "      <td>0.811613</td>\n",
       "      <td>0.191592</td>\n",
       "      <td>0.771315</td>\n",
       "      <td>0.033868</td>\n",
       "      <td>0.633441</td>\n",
       "      <td>0.658824</td>\n",
       "      <td>0.600000</td>\n",
       "      <td>0.00000</td>\n",
       "      <td>0.049769</td>\n",
       "    </tr>\n",
       "    <tr>\n",
       "      <th>514</th>\n",
       "      <td>0.811613</td>\n",
       "      <td>0.191592</td>\n",
       "      <td>0.771315</td>\n",
       "      <td>0.033868</td>\n",
       "      <td>0.610932</td>\n",
       "      <td>0.647059</td>\n",
       "      <td>0.700000</td>\n",
       "      <td>0.00000</td>\n",
       "      <td>0.010231</td>\n",
       "    </tr>\n",
       "    <tr>\n",
       "      <th>515</th>\n",
       "      <td>0.976774</td>\n",
       "      <td>0.499311</td>\n",
       "      <td>0.711622</td>\n",
       "      <td>0.201426</td>\n",
       "      <td>0.752412</td>\n",
       "      <td>0.317647</td>\n",
       "      <td>0.400000</td>\n",
       "      <td>0.00000</td>\n",
       "      <td>0.000000</td>\n",
       "    </tr>\n",
       "    <tr>\n",
       "      <th>516</th>\n",
       "      <td>0.784516</td>\n",
       "      <td>0.006547</td>\n",
       "      <td>0.115867</td>\n",
       "      <td>0.019608</td>\n",
       "      <td>0.308682</td>\n",
       "      <td>0.188235</td>\n",
       "      <td>0.455556</td>\n",
       "      <td>0.00000</td>\n",
       "      <td>0.000000</td>\n",
       "    </tr>\n",
       "  </tbody>\n",
       "</table>\n",
       "<p>517 rows × 9 columns</p>\n",
       "</div>"
      ],
      "text/plain": [
       "         FFMC       DMC        DC       ISI      temp        RH      wind  \\\n",
       "0    0.870968  0.086492  0.101325  0.090909  0.192926  0.423529  0.700000   \n",
       "1    0.927742  0.118194  0.775419  0.119430  0.508039  0.211765  0.055556   \n",
       "2    0.927742  0.146795  0.796294  0.119430  0.398714  0.211765  0.100000   \n",
       "3    0.941935  0.110958  0.081623  0.160428  0.196141  0.964706  0.400000   \n",
       "4    0.910968  0.172984  0.110590  0.171123  0.295820  0.988235  0.155556   \n",
       "..        ...       ...       ...       ...       ...       ...       ...   \n",
       "512  0.811613  0.191592  0.771315  0.033868  0.823151  0.200000  0.255556   \n",
       "513  0.811613  0.191592  0.771315  0.033868  0.633441  0.658824  0.600000   \n",
       "514  0.811613  0.191592  0.771315  0.033868  0.610932  0.647059  0.700000   \n",
       "515  0.976774  0.499311  0.711622  0.201426  0.752412  0.317647  0.400000   \n",
       "516  0.784516  0.006547  0.115867  0.019608  0.308682  0.188235  0.455556   \n",
       "\n",
       "        rain      area  \n",
       "0    0.00000  0.000000  \n",
       "1    0.00000  0.000000  \n",
       "2    0.00000  0.000000  \n",
       "3    0.03125  0.000000  \n",
       "4    0.00000  0.000000  \n",
       "..       ...       ...  \n",
       "512  0.00000  0.005904  \n",
       "513  0.00000  0.049769  \n",
       "514  0.00000  0.010231  \n",
       "515  0.00000  0.000000  \n",
       "516  0.00000  0.000000  \n",
       "\n",
       "[517 rows x 9 columns]"
      ]
     },
     "execution_count": 8,
     "metadata": {},
     "output_type": "execute_result"
    }
   ],
   "source": [
    "# Normalization\n",
    "from sklearn.preprocessing import MinMaxScaler\n",
    "\n",
    "scaler = MinMaxScaler()\n",
    "df_copy = df_copy.drop(['X','Y','month','day'],axis=1)\n",
    "\n",
    "# data ditransformasikan dalam rentang 0 sampai 1\n",
    "data_norm = pd.DataFrame(scaler.fit_transform(df_copy), columns=df_copy.columns)\n",
    "\n",
    "data_norm"
   ]
  },
  {
   "cell_type": "markdown",
   "id": "e25dd9a9",
   "metadata": {
    "papermill": {
     "duration": 0.007488,
     "end_time": "2023-01-07T08:24:22.164154",
     "exception": false,
     "start_time": "2023-01-07T08:24:22.156666",
     "status": "completed"
    },
    "tags": []
   },
   "source": [
    "# Modelling"
   ]
  },
  {
   "cell_type": "markdown",
   "id": "89d0fda0",
   "metadata": {
    "papermill": {
     "duration": 0.007413,
     "end_time": "2023-01-07T08:24:22.179325",
     "exception": false,
     "start_time": "2023-01-07T08:24:22.171912",
     "status": "completed"
    },
    "tags": []
   },
   "source": [
    "Dengan menggunakan model regresi linear"
   ]
  },
  {
   "cell_type": "code",
   "execution_count": 9,
   "id": "d20f300a",
   "metadata": {
    "execution": {
     "iopub.execute_input": "2023-01-07T08:24:22.197213Z",
     "iopub.status.busy": "2023-01-07T08:24:22.196757Z",
     "iopub.status.idle": "2023-01-07T08:24:22.267756Z",
     "shell.execute_reply": "2023-01-07T08:24:22.266516Z"
    },
    "papermill": {
     "duration": 0.083163,
     "end_time": "2023-01-07T08:24:22.270393",
     "exception": false,
     "start_time": "2023-01-07T08:24:22.187230",
     "status": "completed"
    },
    "tags": []
   },
   "outputs": [
    {
     "data": {
      "text/plain": [
       "(361, 156)"
      ]
     },
     "execution_count": 9,
     "metadata": {},
     "output_type": "execute_result"
    }
   ],
   "source": [
    "from sklearn.model_selection import train_test_split\n",
    "\n",
    "X = data_norm.drop(['area'],axis=1)\n",
    "y = data_norm.area\n",
    "X_train, X_test, y_train, y_test = train_test_split(X, y, test_size=0.3, random_state=0)\n",
    "len(X_train),len(X_test)"
   ]
  },
  {
   "cell_type": "code",
   "execution_count": 10,
   "id": "3ab13a41",
   "metadata": {
    "execution": {
     "iopub.execute_input": "2023-01-07T08:24:22.289581Z",
     "iopub.status.busy": "2023-01-07T08:24:22.289048Z",
     "iopub.status.idle": "2023-01-07T08:24:22.301542Z",
     "shell.execute_reply": "2023-01-07T08:24:22.299949Z"
    },
    "papermill": {
     "duration": 0.025485,
     "end_time": "2023-01-07T08:24:22.304373",
     "exception": false,
     "start_time": "2023-01-07T08:24:22.278888",
     "status": "completed"
    },
    "tags": []
   },
   "outputs": [
    {
     "name": "stderr",
     "output_type": "stream",
     "text": [
      "/opt/conda/lib/python3.7/site-packages/pandas/core/arraylike.py:364: RuntimeWarning: divide by zero encountered in log10\n",
      "  result = getattr(ufunc, method)(*inputs, **kwargs)\n"
     ]
    },
    {
     "data": {
      "text/plain": [
       "390   -2.039502\n",
       "5          -inf\n",
       "141   -3.297398\n",
       "268        -inf\n",
       "135        -inf\n",
       "         ...   \n",
       "70         -inf\n",
       "277   -2.007161\n",
       "9          -inf\n",
       "359   -2.128205\n",
       "192   -2.097743\n",
       "Name: area, Length: 361, dtype: float64"
      ]
     },
     "execution_count": 10,
     "metadata": {},
     "output_type": "execute_result"
    }
   ],
   "source": [
    "np.log10(y_train)"
   ]
  },
  {
   "cell_type": "code",
   "execution_count": 11,
   "id": "f45a0890",
   "metadata": {
    "execution": {
     "iopub.execute_input": "2023-01-07T08:24:22.324413Z",
     "iopub.status.busy": "2023-01-07T08:24:22.323962Z",
     "iopub.status.idle": "2023-01-07T08:24:22.415501Z",
     "shell.execute_reply": "2023-01-07T08:24:22.414524Z"
    },
    "papermill": {
     "duration": 0.105836,
     "end_time": "2023-01-07T08:24:22.418443",
     "exception": false,
     "start_time": "2023-01-07T08:24:22.312607",
     "status": "completed"
    },
    "tags": []
   },
   "outputs": [],
   "source": [
    "from sklearn.linear_model import LinearRegression\n",
    "from sklearn.metrics import mean_absolute_error\n",
    "from sklearn.metrics import mean_absolute_percentage_error\n",
    "from sklearn.metrics import accuracy_score\n",
    "import matplotlib.pyplot as plt\n",
    "import seaborn as sns"
   ]
  },
  {
   "cell_type": "code",
   "execution_count": 12,
   "id": "1908ddcc",
   "metadata": {
    "execution": {
     "iopub.execute_input": "2023-01-07T08:24:22.437540Z",
     "iopub.status.busy": "2023-01-07T08:24:22.436630Z",
     "iopub.status.idle": "2023-01-07T08:24:22.469875Z",
     "shell.execute_reply": "2023-01-07T08:24:22.468640Z"
    },
    "papermill": {
     "duration": 0.045896,
     "end_time": "2023-01-07T08:24:22.472683",
     "exception": false,
     "start_time": "2023-01-07T08:24:22.426787",
     "status": "completed"
    },
    "tags": []
   },
   "outputs": [
    {
     "name": "stdout",
     "output_type": "stream",
     "text": [
      "MAE =  0.019473536313138133\n",
      "MAPE =  16202853658497.836  %\n",
      "R2 =  0.020741865228842693\n"
     ]
    }
   ],
   "source": [
    "regr = LinearRegression()\n",
    "regr.fit(X_train,y_train)\n",
    "score = regr.score(X_train,y_train)\n",
    "\n",
    "y_pred = regr.predict(X_test)\n",
    "print('MAE = ',mean_absolute_error(y_test,y_pred))\n",
    "print('MAPE = ',mean_absolute_percentage_error(y_test,y_pred),' %')\n",
    "print('R2 = ',score)"
   ]
  }
 ],
 "metadata": {
  "kernelspec": {
   "display_name": "Python 3",
   "language": "python",
   "name": "python3"
  },
  "language_info": {
   "codemirror_mode": {
    "name": "ipython",
    "version": 3
   },
   "file_extension": ".py",
   "mimetype": "text/x-python",
   "name": "python",
   "nbconvert_exporter": "python",
   "pygments_lexer": "ipython3",
   "version": "3.7.12"
  },
  "papermill": {
   "default_parameters": {},
   "duration": 17.089911,
   "end_time": "2023-01-07T08:24:23.606846",
   "environment_variables": {},
   "exception": null,
   "input_path": "__notebook__.ipynb",
   "output_path": "__notebook__.ipynb",
   "parameters": {},
   "start_time": "2023-01-07T08:24:06.516935",
   "version": "2.3.4"
  }
 },
 "nbformat": 4,
 "nbformat_minor": 5
}
